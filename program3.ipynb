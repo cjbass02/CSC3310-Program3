{
 "cells": [
  {
   "cell_type": "markdown",
   "metadata": {
    "pycharm": {
     "name": "#%% md\n"
    }
   },
   "source": [
    "# HOLA"
   ]
  },
  {
   "cell_type": "code",
   "execution_count": 21,
   "outputs": [],
   "source": [
    "def selection(arr, k):\n",
    "    if k > len(arr):\n",
    "        print(-1)\n",
    "        return -1\n",
    "    num = arr[0]\n",
    "    smaller = []\n",
    "    larger = []\n",
    "    for n in range(1, len(arr)):\n",
    "        if num < arr[n]:\n",
    "            larger.append(arr[n])\n",
    "        else:\n",
    "            smaller.append(arr[n])\n",
    "    larger.append(num)\n",
    "    if k > len(smaller)+1:\n",
    "        selection(larger, k - len(smaller))\n",
    "    elif k == len(smaller)+1:\n",
    "        print(num)\n",
    "        return num\n",
    "    else:\n",
    "        selection(smaller, k)"
   ],
   "metadata": {
    "collapsed": false,
    "pycharm": {
     "name": "#%%\n"
    }
   }
  },
  {
   "cell_type": "code",
   "execution_count": 22,
   "outputs": [
    {
     "name": "stdout",
     "output_type": "stream",
     "text": [
      "10\n",
      "7\n",
      "-1\n",
      "40\n",
      "[10, 10, 10, 10, 10, 10, 10, 10, 10, 10, 10, 10, 10, 10]\n",
      "[1, 2, 3, 4, 5, 6, 7, 8, 9, 10, 11, 12, 13, 14]\n",
      "[20, 30, 40, 50]\n"
     ]
    }
   ],
   "source": [
    "arr1 = [10,10,10,10,10,10,10,10,10,10,10,10,10,10]\n",
    "selection(arr1, 7)\n",
    "arr2 = [1,2,3,4,5,6,7,8,9,10,11,12,13,14]\n",
    "selection(arr2, 7)\n",
    "arr3 = [20,30,40,50]\n",
    "selection(arr3, 5)\n",
    "selection(arr3, 3)\n",
    "\n",
    "arr1.sort()\n",
    "print(arr1)\n",
    "arr2.sort()\n",
    "print(arr2)\n",
    "arr3.sort()\n",
    "print(arr3)"
   ],
   "metadata": {
    "collapsed": false,
    "pycharm": {
     "name": "#%%\n"
    }
   }
  },
  {
   "cell_type": "code",
   "execution_count": 23,
   "outputs": [],
   "source": [
    "def sort(arr, k):\n",
    "    arr.sort()\n",
    "    num = arr[k-1]\n",
    "    print(num)\n",
    "    return num"
   ],
   "metadata": {
    "collapsed": false,
    "pycharm": {
     "name": "#%%\n"
    }
   }
  },
  {
   "cell_type": "code",
   "execution_count": 24,
   "outputs": [],
   "source": [
    "import random\n",
    "\n",
    "def generate_input_list(n):\n",
    "    return [random.randint(0,100) for _ in range(n)]"
   ],
   "metadata": {
    "collapsed": false,
    "pycharm": {
     "name": "#%%\n"
    }
   }
  },
  {
   "cell_type": "code",
   "execution_count": 25,
   "outputs": [],
   "source": [
    "import time\n",
    "\n",
    "def benchmarking(algorithm, inputList, k):\n",
    "    startTime = time.perf_counter()\n",
    "    algorithm(inputList, k)\n",
    "    return time.perf_counter() - startTime"
   ],
   "metadata": {
    "collapsed": false,
    "pycharm": {
     "name": "#%%\n"
    }
   }
  },
  {
   "cell_type": "code",
   "execution_count": 26,
   "outputs": [
    {
     "name": "stdout",
     "output_type": "stream",
     "text": [
      "10\n",
      "selection 10\n",
      "9\n",
      "selection 100\n",
      "1\n",
      "selection 1000\n",
      "0\n",
      "selection 10000\n",
      "0\n",
      "selection 100000\n",
      "10\n",
      "sort 10\n",
      "9\n",
      "sort 100\n",
      "1\n",
      "sort 1000\n",
      "0\n",
      "sort 10000\n",
      "0\n",
      "sort 100000\n"
     ]
    }
   ],
   "source": [
    "list_10 = generate_input_list(10)\n",
    "list_100 = generate_input_list(100)\n",
    "list_1000 = generate_input_list(1000)\n",
    "list_10000 = generate_input_list(10000)\n",
    "list_100000 = generate_input_list(100000)\n",
    "\n",
    "# our algorithm\n",
    "sel_benchmark_10 = benchmarking(selection, arr1, 5)\n",
    "print(\"selection 10\")\n",
    "sel_benchmark_100 = benchmarking(selection, list_100, 10)\n",
    "print(\"selection 100\")\n",
    "sel_benchmark_1000 = benchmarking(selection, list_1000, 10)\n",
    "print(\"selection 1000\")\n",
    "sel_benchmark_10000 = benchmarking(selection, list_10000, 10)\n",
    "print(\"selection 10000\")\n",
    "sel_benchmark_100000 = benchmarking(selection, list_100000, 10)\n",
    "print(\"selection 100000\")\n",
    "\n",
    "\n",
    "# sorts the numbers and picks the element at index k − 1.\n",
    "sort_benchmark_10 = benchmarking(sort, arr1, 5)\n",
    "print(\"sort 10\")\n",
    "sort_benchmark_100 = benchmarking(sort, list_100, 10)\n",
    "print(\"sort 100\")\n",
    "sort_benchmark_1000 = benchmarking(sort, list_1000, 10)\n",
    "print(\"sort 1000\")\n",
    "sort_benchmark_10000 = benchmarking(sort, list_10000, 10)\n",
    "print(\"sort 10000\")\n",
    "sort_benchmark_100000 = benchmarking(sort, list_100000, 10)\n",
    "print(\"sort 100000\")"
   ],
   "metadata": {
    "collapsed": false,
    "pycharm": {
     "name": "#%%\n"
    }
   }
  },
  {
   "cell_type": "code",
   "execution_count": 27,
   "outputs": [
    {
     "name": "stdout",
     "output_type": "stream",
     "text": [
      "Benchmarks of our algorithm\n",
      "0.0007211000192910433\n",
      "4.010018892586231e-05\n",
      "0.00021680002100765705\n",
      "0.0026814998127520084\n",
      "0.17282239999622107\n",
      "Benchmarks of sort algorithm\n",
      "1.3399869203567505e-05\n",
      "2.7900096029043198e-05\n",
      "0.00018650013953447342\n",
      "0.0020252999383956194\n",
      "0.019894700031727552\n"
     ]
    }
   ],
   "source": [
    "print(\"Benchmarks of our algorithm\")\n",
    "print(sel_benchmark_10)\n",
    "print(sel_benchmark_100)\n",
    "print(sel_benchmark_1000)\n",
    "print(sel_benchmark_10000)\n",
    "print(sel_benchmark_100000)\n",
    "print(\"Benchmarks of sort algorithm\")\n",
    "print(sort_benchmark_10)\n",
    "print(sort_benchmark_100)\n",
    "print(sort_benchmark_1000)\n",
    "print(sort_benchmark_10000)\n",
    "print(sort_benchmark_100000)"
   ],
   "metadata": {
    "collapsed": false,
    "pycharm": {
     "name": "#%%\n"
    }
   }
  },
  {
   "cell_type": "code",
   "execution_count": 27,
   "outputs": [],
   "source": [],
   "metadata": {
    "collapsed": false,
    "ExecuteTime": {
     "end_time": "2024-03-18T20:34:46.780739300Z",
     "start_time": "2024-03-18T20:34:46.771733400Z"
    },
    "pycharm": {
     "name": "#%%\n"
    }
   }
  }
 ],
 "metadata": {
  "kernelspec": {
   "display_name": "Python 3",
   "language": "python",
   "name": "python3"
  },
  "language_info": {
   "codemirror_mode": {
    "name": "ipython",
    "version": 3
   },
   "file_extension": ".py",
   "mimetype": "text/x-python",
   "name": "python",
   "nbconvert_exporter": "python",
   "pygments_lexer": "ipython3",
   "version": "3.11.8"
  }
 },
 "nbformat": 4,
 "nbformat_minor": 2
}