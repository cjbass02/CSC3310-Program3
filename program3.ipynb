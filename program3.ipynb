{
 "cells": [
  {
   "cell_type": "markdown",
   "metadata": {
    "pycharm": {
     "name": "#%% md\n"
    }
   },
   "source": [
    "# HOLA"
   ]
  },
  {
   "cell_type": "code",
   "execution_count": 183,
   "metadata": {
    "collapsed": false,
    "pycharm": {
     "name": "#%%\n"
    }
   },
   "outputs": [],
   "source": [
    "import random\n",
    "def selection(arr, k):\n",
    "    if k > len(arr):\n",
    "        return -1\n",
    "    num = arr[(int)(len(arr)/2)]\n",
    "    smaller = []\n",
    "    larger = []\n",
    "    for n in range(1, len(arr)):\n",
    "        if num < arr[n]:\n",
    "            larger.append(arr[n])\n",
    "        else:\n",
    "            smaller.append(arr[n])\n",
    "    larger.append(num)\n",
    "    if k > len(smaller)+1:\n",
    "        selection(larger, k - len(smaller))\n",
    "    elif k == len(smaller)+1:\n",
    "        return num\n",
    "    else:\n",
    "        selection(smaller, k)"
   ]
  },
  {
   "cell_type": "code",
   "execution_count": 184,
   "metadata": {
    "collapsed": false,
    "pycharm": {
     "name": "#%%\n"
    }
   },
   "outputs": [
    {
     "name": "stdout",
     "output_type": "stream",
     "text": [
      "[10, 10, 10, 10, 10, 10, 10, 10, 10, 10, 10, 10, 10, 10]\n",
      "[1, 2, 3, 4, 5, 6, 7, 8, 9, 10, 11, 12, 13, 14]\n",
      "[20, 30, 40, 50]\n"
     ]
    }
   ],
   "source": [
    "arr1 = [10,10,10,10,10,10,10,10,10,10,10,10,10,10]\n",
    "selection(arr1, 7)\n",
    "arr2 = [1,2,3,4,5,6,7,8,9,10,11,12,13,14]\n",
    "selection(arr2, 7)\n",
    "arr3 = [20,30,40,50]\n",
    "selection(arr3, 5)\n",
    "selection(arr3, 3)\n",
    "\n",
    "arr1.sort()\n",
    "print(arr1)\n",
    "arr2.sort()\n",
    "print(arr2)\n",
    "arr3.sort()\n",
    "print(arr3)"
   ]
  },
  {
   "cell_type": "code",
   "execution_count": 185,
   "metadata": {},
   "outputs": [],
   "source": [
    "# MergeSort in Python\n",
    "\n",
    "\n",
    "def mergeSort(array):\n",
    "    if len(array) > 1:\n",
    "\n",
    "        #  r is the point where the array is divided into two subarrays\n",
    "        r = len(array)//2\n",
    "        L = array[:r]\n",
    "        M = array[r:]\n",
    "\n",
    "        # Sort the two halves\n",
    "        mergeSort(L)\n",
    "        mergeSort(M)\n",
    "\n",
    "        i = j = k = 0\n",
    "\n",
    "        # Until we reach either end of either L or M, pick larger among\n",
    "        # elements L and M and place them in the correct position at A[p..r]\n",
    "        while i < len(L) and j < len(M):\n",
    "            if L[i] < M[j]:\n",
    "                array[k] = L[i]\n",
    "                i += 1\n",
    "            else:\n",
    "                array[k] = M[j]\n",
    "                j += 1\n",
    "            k += 1\n",
    "\n",
    "        # When we run out of elements in either L or M,\n",
    "        # pick up the remaining elements and put in A[p..r]\n",
    "        while i < len(L):\n",
    "            array[k] = L[i]\n",
    "            i += 1\n",
    "            k += 1\n",
    "\n",
    "        while j < len(M):\n",
    "            array[k] = M[j]\n",
    "            j += 1\n",
    "            k += 1\n",
    "\n"
   ]
  },
  {
   "cell_type": "code",
   "execution_count": 187,
   "metadata": {
    "collapsed": false,
    "pycharm": {
     "name": "#%%\n"
    }
   },
   "outputs": [],
   "source": [
    "def sort(arr, k):\n",
    "    mergeSort(arr)\n",
    "    num = arr[k-1]\n",
    "    print(num)\n",
    "    return num"
   ]
  },
  {
   "cell_type": "code",
   "execution_count": 188,
   "metadata": {
    "collapsed": false,
    "pycharm": {
     "name": "#%%\n"
    }
   },
   "outputs": [],
   "source": [
    "import random\n",
    "\n",
    "def generate_input_list(n):\n",
    "    return [random.randint(0,100) for _ in range(n)]"
   ]
  },
  {
   "cell_type": "code",
   "execution_count": 189,
   "metadata": {
    "collapsed": false,
    "pycharm": {
     "name": "#%%\n"
    }
   },
   "outputs": [],
   "source": [
    "import time\n",
    "\n",
    "def benchmarking(algorithm, inputList, k):\n",
    "    startTime = time.perf_counter()\n",
    "    algorithm(inputList, k)\n",
    "    endTime = time.perf_counter()\n",
    "    return endTime - startTime"
   ]
  },
  {
   "cell_type": "code",
   "execution_count": 190,
   "metadata": {
    "collapsed": false,
    "pycharm": {
     "name": "#%%\n"
    }
   },
   "outputs": [
    {
     "name": "stdout",
     "output_type": "stream",
     "text": [
      "selection 10\n",
      "selection 100\n",
      "selection 1000\n",
      "selection 10000\n",
      "selection 100000"
     ]
    },
    {
     "name": "stdout",
     "output_type": "stream",
     "text": [
      "\n",
      "10\n",
      "sort 10\n",
      "8\n",
      "sort 100\n",
      "1\n",
      "sort 1000\n",
      "0\n",
      "sort 10000\n",
      "0\n",
      "sort 100000\n"
     ]
    }
   ],
   "source": [
    "list_10 = generate_input_list(10)\n",
    "list_100 = generate_input_list(100)\n",
    "list_1000 = generate_input_list(1000)\n",
    "list_10000 = generate_input_list(10000)\n",
    "list_100000 = generate_input_list(100000)\n",
    "\n",
    "\n",
    "# our algorithm\n",
    "sel_benchmark_10 = benchmarking(selection, arr1, 5)\n",
    "print(\"selection 10\")\n",
    "sel_benchmark_100 = benchmarking(selection, list_100, 10)\n",
    "print(\"selection 100\")\n",
    "sel_benchmark_1000 = benchmarking(selection, list_1000, 10)\n",
    "print(\"selection 1000\")\n",
    "sel_benchmark_10000 = benchmarking(selection, list_10000, 10)\n",
    "print(\"selection 10000\")\n",
    "sel_benchmark_100000 = benchmarking(selection, list_100000, 10)\n",
    "print(\"selection 100000\")\n",
    "\n",
    "\n",
    "\n",
    "# sorts the numbers and picks the element at index k − 1.\n",
    "sort_benchmark_10 = benchmarking(sort, arr1, 5)\n",
    "print(\"sort 10\")\n",
    "sort_benchmark_100 = benchmarking(sort, list_100, 10)\n",
    "print(\"sort 100\")\n",
    "sort_benchmark_1000 = benchmarking(sort, list_1000, 10)\n",
    "print(\"sort 1000\")\n",
    "sort_benchmark_10000 = benchmarking(sort, list_10000, 10)\n",
    "print(\"sort 10000\")\n",
    "sort_benchmark_100000 = benchmarking(sort, list_100000, 10)\n",
    "print(\"sort 100000\")\n"
   ]
  },
  {
   "cell_type": "code",
   "execution_count": 191,
   "metadata": {
    "collapsed": false,
    "pycharm": {
     "name": "#%%\n"
    }
   },
   "outputs": [
    {
     "name": "stdout",
     "output_type": "stream",
     "text": [
      "Benchmarks of our algorithm\n",
      "2.4799956008791924e-05\n",
      "2.559996210038662e-05\n",
      "0.00018509989604353905\n",
      "0.0010379999876022339\n",
      "0.0680549000389874\n",
      "Benchmarks of sort algorithm\n",
      "3.200001083314419e-05\n",
      "0.00020180013962090015\n",
      "0.0030068999622017145\n",
      "0.03629489988088608\n",
      "0.3880779000464827\n"
     ]
    }
   ],
   "source": [
    "print(\"Benchmarks of our algorithm\")\n",
    "print(sel_benchmark_10)\n",
    "print(sel_benchmark_100)\n",
    "print(sel_benchmark_1000)\n",
    "print(sel_benchmark_10000)\n",
    "print(sel_benchmark_100000)\n",
    "\n",
    "print(\"Benchmarks of sort algorithm\")\n",
    "print(sort_benchmark_10)\n",
    "print(sort_benchmark_100)\n",
    "print(sort_benchmark_1000)\n",
    "print(sort_benchmark_10000)\n",
    "print(sort_benchmark_100000)\n"
   ]
  }
 ],
 "metadata": {
  "kernelspec": {
   "display_name": "Python 3",
   "language": "python",
   "name": "python3"
  },
  "language_info": {
   "codemirror_mode": {
    "name": "ipython",
    "version": 3
   },
   "file_extension": ".py",
   "mimetype": "text/x-python",
   "name": "python",
   "nbconvert_exporter": "python",
   "pygments_lexer": "ipython3",
   "version": "3.11.8"
  }
 },
 "nbformat": 4,
 "nbformat_minor": 2
}
