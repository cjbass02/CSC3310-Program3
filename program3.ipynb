{
 "cells": [
  {
   "cell_type": "markdown",
   "metadata": {},
   "source": [
    "# HOLA"
   ]
  },
  {
   "cell_type": "code",
   "execution_count": 17,
   "metadata": {
    "ExecuteTime": {
     "end_time": "2024-03-18T20:34:44.698085400Z",
     "start_time": "2024-03-18T20:34:44.687788Z"
    }
   },
   "outputs": [],
   "source": [
    "def selection(arr, k):\n",
    "    if k > len(arr):\n",
    "        return -1\n",
    "    num = arr[0]\n",
    "    smaller = []\n",
    "    larger = []\n",
    "    for n in range(1, len(arr)):\n",
    "        if num < arr[n]:\n",
    "            larger.append(arr[n])\n",
    "        else:\n",
    "            smaller.append(arr[n])\n",
    "    larger.append(num)\n",
    "    if k > len(smaller)+1:\n",
    "        selection(larger, k - len(smaller))\n",
    "    elif k == len(smaller)+1:\n",
    "        print(num)\n",
    "        return num\n",
    "    else:\n",
    "        selection(smaller, k)"
   ]
  },
  {
   "cell_type": "code",
   "execution_count": 20,
   "metadata": {
    "ExecuteTime": {
     "end_time": "2024-03-18T20:35:12.924431700Z",
     "start_time": "2024-03-18T20:35:12.914911800Z"
    }
   },
   "outputs": [
    {
     "name": "stdout",
     "output_type": "stream",
     "text": [
      "10\n",
      "[10, 10, 10, 10, 10, 10, 10, 10, 10, 10, 10, 10, 10, 10]\n"
     ]
    }
   ],
   "source": [
    "arr = [10,10,10,10,10,10,10,10,10,10,10,10,10,10]\n",
    "selection(arr, 7)\n",
    "arr.sort()\n",
    "print(arr)"
   ]
  },
  {
   "cell_type": "code",
   "execution_count": 18,
   "outputs": [],
   "source": [],
   "metadata": {
    "collapsed": false,
    "ExecuteTime": {
     "end_time": "2024-03-18T20:34:46.780739300Z",
     "start_time": "2024-03-18T20:34:46.771733400Z"
    }
   }
  },
  {
   "cell_type": "code",
   "execution_count": 18,
   "outputs": [],
   "source": [],
   "metadata": {
    "collapsed": false,
    "ExecuteTime": {
     "end_time": "2024-03-18T20:34:47.807862400Z",
     "start_time": "2024-03-18T20:34:47.798852200Z"
    }
   }
  },
  {
   "cell_type": "code",
   "execution_count": null,
   "outputs": [],
   "source": [],
   "metadata": {
    "collapsed": false
   }
  }
 ],
 "metadata": {
  "kernelspec": {
   "display_name": "Python 3",
   "language": "python",
   "name": "python3"
  },
  "language_info": {
   "codemirror_mode": {
    "name": "ipython",
    "version": 3
   },
   "file_extension": ".py",
   "mimetype": "text/x-python",
   "name": "python",
   "nbconvert_exporter": "python",
   "pygments_lexer": "ipython3",
   "version": "3.11.8"
  }
 },
 "nbformat": 4,
 "nbformat_minor": 2
}
