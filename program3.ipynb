{
 "cells": [
  {
   "cell_type": "markdown",
   "metadata": {},
   "source": [
    "# HOLA"
   ]
  },
  {
   "cell_type": "code",
   "execution_count": 1,
   "metadata": {},
   "outputs": [],
   "source": [
    "def selection(arr, k):\n",
    "    if k > len(arr):\n",
    "        return -1\n",
    "    num = arr[0]\n",
    "    smaller = []\n",
    "    larger = []\n",
    "    larger.append(num)\n",
    "    for n in range(1, len(arr)):\n",
    "        if num < arr[n]:\n",
    "            larger.append(arr[n])\n",
    "        else:\n",
    "            smaller.append(arr[n])\n",
    "    if k > len(smaller)+1:\n",
    "        selection(larger, k - len(smaller))\n",
    "    elif k == len(smaller)+1:\n",
    "        print(num)\n",
    "        return num\n",
    "    else:\n",
    "        selection(smaller, k)"
   ]
  },
  {
   "cell_type": "code",
   "execution_count": 4,
   "metadata": {},
   "outputs": [
    {
     "name": "stdout",
     "output_type": "stream",
     "text": [
      "4\n"
     ]
    }
   ],
   "source": [
    "arr = [1, 2, 3, 4, 5, 6, 7, 8, 9, 10]\n",
    "selection(arr, 4)"
   ]
  }
 ],
 "metadata": {
  "kernelspec": {
   "display_name": "Python 3",
   "language": "python",
   "name": "python3"
  },
  "language_info": {
   "codemirror_mode": {
    "name": "ipython",
    "version": 3
   },
   "file_extension": ".py",
   "mimetype": "text/x-python",
   "name": "python",
   "nbconvert_exporter": "python",
   "pygments_lexer": "ipython3",
   "version": "3.11.8"
  }
 },
 "nbformat": 4,
 "nbformat_minor": 2
}
