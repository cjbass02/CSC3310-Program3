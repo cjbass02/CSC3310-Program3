{
 "cells": [
  {
   "cell_type": "markdown",
   "metadata": {
    "pycharm": {
     "name": "#%% md\n"
    }
   },
   "source": [
    "# HOLA"
   ]
  },
  {
   "cell_type": "code",
   "execution_count": 1,
   "outputs": [],
   "source": [
    "import random\n",
    "def selection(arr, k):\n",
    "    if k > len(arr):\n",
    "        return -1\n",
    "    num = arr[(int)(len(arr)/2)]\n",
    "    smaller = []\n",
    "    larger = []\n",
    "    for n in range(1, len(arr)):\n",
    "        if num < arr[n]:\n",
    "            larger.append(arr[n])\n",
    "        else:\n",
    "            smaller.append(arr[n])\n",
    "    larger.append(num)\n",
    "    if k > len(smaller)+1:\n",
    "        selection(larger, k - len(smaller))\n",
    "    elif k == len(smaller)+1:\n",
    "        return num\n",
    "    else:\n",
    "        selection(smaller, k)"
   ],
   "metadata": {
    "collapsed": false,
    "pycharm": {
     "name": "#%%\n"
    }
   }
  },
  {
   "cell_type": "code",
   "execution_count": 2,
   "outputs": [
    {
     "name": "stdout",
     "output_type": "stream",
     "text": [
      "[10, 10, 10, 10, 10, 10, 10, 10, 10, 10, 10, 10, 10, 10]\n",
      "[1, 2, 3, 4, 5, 6, 7, 8, 9, 10, 11, 12, 13, 14]\n",
      "[20, 30, 40, 50]\n"
     ]
    }
   ],
   "source": [
    "arr1 = [10,10,10,10,10,10,10,10,10,10,10,10,10,10]\n",
    "selection(arr1, 7)\n",
    "arr2 = [1,2,3,4,5,6,7,8,9,10,11,12,13,14]\n",
    "selection(arr2, 7)\n",
    "arr3 = [20,30,40,50]\n",
    "selection(arr3, 5)\n",
    "selection(arr3, 3)\n",
    "\n",
    "arr1.sort()\n",
    "print(arr1)\n",
    "arr2.sort()\n",
    "print(arr2)\n",
    "arr3.sort()\n",
    "print(arr3)"
   ],
   "metadata": {
    "collapsed": false,
    "pycharm": {
     "name": "#%%\n"
    }
   }
  },
  {
   "cell_type": "code",
   "execution_count": 3,
   "outputs": [],
   "source": [
    "# MergeSort in Python\n",
    "def mergeSort(array):\n",
    "    if len(array) > 1:\n",
    "\n",
    "        #  r is the point where the array is divided into two subarrays\n",
    "        r = len(array)//2\n",
    "        L = array[:r]\n",
    "        M = array[r:]\n",
    "\n",
    "        # Sort the two halves\n",
    "        mergeSort(L)\n",
    "        mergeSort(M)\n",
    "\n",
    "        i = j = k = 0\n",
    "\n",
    "        # Until we reach either end of either L or M, pick larger among\n",
    "        # elements L and M and place them in the correct position at A[p..r]\n",
    "        while i < len(L) and j < len(M):\n",
    "            if L[i] < M[j]:\n",
    "                array[k] = L[i]\n",
    "                i += 1\n",
    "            else:\n",
    "                array[k] = M[j]\n",
    "                j += 1\n",
    "            k += 1\n",
    "\n",
    "        # When we run out of elements in either L or M,\n",
    "        # pick up the remaining elements and put in A[p..r]\n",
    "        while i < len(L):\n",
    "            array[k] = L[i]\n",
    "            i += 1\n",
    "            k += 1\n",
    "\n",
    "        while j < len(M):\n",
    "            array[k] = M[j]\n",
    "            j += 1\n",
    "            k += 1\n",
    "\n"
   ],
   "metadata": {
    "collapsed": false,
    "pycharm": {
     "name": "#%%\n"
    }
   }
  },
  {
   "cell_type": "code",
   "execution_count": 4,
   "outputs": [],
   "source": [
    "def sortAlg(arr, k):\n",
    "    mergeSort(arr)\n",
    "    num = arr[k-1]\n",
    "    print(num)\n",
    "    return num"
   ],
   "metadata": {
    "collapsed": false,
    "pycharm": {
     "name": "#%%\n"
    }
   }
  },
  {
   "cell_type": "code",
   "execution_count": 5,
   "outputs": [],
   "source": [
    "import random\n",
    "\n",
    "def generate_input_list(n):\n",
    "    return [random.randint(0,100) for _ in range(n)]"
   ],
   "metadata": {
    "collapsed": false,
    "pycharm": {
     "name": "#%%\n"
    }
   }
  },
  {
   "cell_type": "code",
   "execution_count": 6,
   "outputs": [],
   "source": [
    "import time\n",
    "\n",
    "def benchmarking(algorithm, inputList, k):\n",
    "    startTime = time.perf_counter()\n",
    "    algorithm(inputList, k)\n",
    "    endTime = time.perf_counter()\n",
    "    return endTime - startTime"
   ],
   "metadata": {
    "collapsed": false,
    "pycharm": {
     "name": "#%%\n"
    }
   }
  },
  {
   "cell_type": "code",
   "execution_count": 7,
   "outputs": [
    {
     "name": "stdout",
     "output_type": "stream",
     "text": [
      "Benchmarks of our algorithm\n",
      "list 10\n",
      "6.9998204708099365e-06\n",
      "8.09994526207447e-06\n",
      "5.700159817934036e-06\n",
      "4.899920895695686e-06\n",
      "5.500158295035362e-06\n"
     ]
    }
   ],
   "source": [
    "list_10 = generate_input_list(10)\n",
    "list_100 = generate_input_list(100)\n",
    "list_1000 = generate_input_list(1000)\n",
    "list_10000 = generate_input_list(10000)\n",
    "list_100000 = generate_input_list(100000)\n",
    "list_1000000 = generate_input_list(1000000)\n",
    "k_first = 1\n",
    "k_quarter = 0.25\n",
    "k_half = 0.5\n",
    "k_threequarters = 0.75\n",
    "\n",
    "# our algorithm\n",
    "print(\"Benchmarks of our algorithm\")\n",
    "sel_benchmark_10_kfirst = benchmarking(selection, list_10, k_first)\n",
    "sel_benchmark_10_kquarter = benchmarking(selection, list_10, len(list_10) * k_quarter)\n",
    "sel_benchmark_10_khalf = benchmarking(selection, list_10, len(list_10) * k_half)\n",
    "sel_benchmark_10_kthreequarter = benchmarking(selection, list_10, len(list_10) * k_threequarters)\n",
    "sel_benchmark_10_klength = benchmarking(selection, list_10, len(list_10))\n",
    "print(\"list 10\")\n",
    "print(sel_benchmark_10_kfirst)\n",
    "print(sel_benchmark_10_kquarter)\n",
    "print(sel_benchmark_10_khalf)\n",
    "print(sel_benchmark_10_kthreequarter)\n",
    "print(sel_benchmark_10_klength)"
   ],
   "metadata": {
    "collapsed": false,
    "pycharm": {
     "name": "#%%\n"
    }
   }
  },
  {
   "cell_type": "code",
   "execution_count": 8,
   "outputs": [
    {
     "name": "stdout",
     "output_type": "stream",
     "text": [
      "list 100\n",
      "6.16998877376318e-05\n",
      "3.809994086623192e-05\n",
      "1.7300015315413475e-05\n",
      "3.090011887252331e-05\n",
      "1.8300022929906845e-05\n"
     ]
    }
   ],
   "source": [
    "\n",
    "sel_benchmark_100_kfirst = benchmarking(selection, list_100, k_first)\n",
    "sel_benchmark_100_kquarter  = benchmarking(selection, list_100, len(list_100) * k_quarter)\n",
    "sel_benchmark_100_khalf = benchmarking(selection, list_100, len(list_100) * k_half)\n",
    "sel_benchmark_100_kthreequarter = benchmarking(selection, list_100, len(list_100) * k_threequarters)\n",
    "sel_benchmark_100_klength = benchmarking(selection, list_100, len(list_100))\n",
    "print(\"list 100\")\n",
    "print(sel_benchmark_100_kfirst)\n",
    "print(sel_benchmark_100_kquarter)\n",
    "print(sel_benchmark_100_khalf)\n",
    "print(sel_benchmark_100_kthreequarter)\n",
    "print(sel_benchmark_100_klength)"
   ],
   "metadata": {
    "collapsed": false,
    "pycharm": {
     "name": "#%%\n"
    }
   }
  },
  {
   "cell_type": "code",
   "execution_count": 9,
   "outputs": [
    {
     "name": "stdout",
     "output_type": "stream",
     "text": [
      "list 1000\n",
      "0.00012740003876388073\n",
      "0.0005818000063300133\n",
      "0.0007776001002639532\n",
      "0.004428299842402339\n",
      "0.00025320006534457207\n"
     ]
    }
   ],
   "source": [
    "\n",
    "sel_benchmark_1000_kfirst = benchmarking(selection, list_1000, k_first)\n",
    "sel_benchmark_1000_kquarter  = benchmarking(selection, list_1000, len(list_1000) * k_quarter)\n",
    "sel_benchmark_1000_khalf = benchmarking(selection, list_1000, len(list_1000) * k_half)\n",
    "sel_benchmark_1000_kthreequarter = benchmarking(selection, list_1000, len(list_1000) * k_threequarters)\n",
    "sel_benchmark_1000_klength = benchmarking(selection, list_1000, len(list_1000))\n",
    "print(\"list 1000\")\n",
    "print(sel_benchmark_1000_kfirst)\n",
    "print(sel_benchmark_1000_kquarter)\n",
    "print(sel_benchmark_1000_khalf)\n",
    "print(sel_benchmark_1000_kthreequarter)\n",
    "print(sel_benchmark_1000_klength)"
   ],
   "metadata": {
    "collapsed": false,
    "pycharm": {
     "name": "#%%\n"
    }
   }
  },
  {
   "cell_type": "code",
   "execution_count": 10,
   "outputs": [
    {
     "name": "stdout",
     "output_type": "stream",
     "text": [
      "list 10000\n",
      "0.002832400146871805\n",
      "0.003378999885171652\n",
      "0.0050529001746326685\n",
      "0.002393099945038557\n",
      "0.0017904997803270817\n"
     ]
    }
   ],
   "source": [
    "\n",
    "sel_benchmark_10000_kfirst = benchmarking(selection, list_10000, k_first)\n",
    "sel_benchmark_10000_kquarter  = benchmarking(selection, list_10000, len(list_10000) * k_quarter)\n",
    "sel_benchmark_10000_khalf = benchmarking(selection, list_10000, len(list_10000) * k_half)\n",
    "sel_benchmark_10000_kthreequarter = benchmarking(selection, list_10000, len(list_10000) * k_threequarters)\n",
    "sel_benchmark_10000_klength = benchmarking(selection, list_10000, len(list_10000))\n",
    "print(\"list 10000\")\n",
    "print(sel_benchmark_10000_kfirst)\n",
    "print(sel_benchmark_10000_kquarter)\n",
    "print(sel_benchmark_10000_khalf)\n",
    "print(sel_benchmark_10000_kthreequarter)\n",
    "print(sel_benchmark_10000_klength)"
   ],
   "metadata": {
    "collapsed": false,
    "pycharm": {
     "name": "#%%\n"
    }
   }
  },
  {
   "cell_type": "code",
   "execution_count": 11,
   "outputs": [
    {
     "name": "stdout",
     "output_type": "stream",
     "text": [
      "list 100000\n",
      "0.077284200116992\n",
      "0.08172750007361174\n",
      "0.08032339997589588\n",
      "0.0505921000149101\n",
      "0.010556699940934777\n"
     ]
    }
   ],
   "source": [
    "\n",
    "sel_benchmark_100000_kfirst = benchmarking(selection, list_100000, k_first)\n",
    "sel_benchmark_100000_kquarter  = benchmarking(selection, list_100000, len(list_100000) * k_quarter)\n",
    "sel_benchmark_100000_khalf = benchmarking(selection, list_100000, len(list_100000) * k_half)\n",
    "sel_benchmark_100000_kthreequarter = benchmarking(selection, list_100000, len(list_100000) * k_threequarters)\n",
    "sel_benchmark_100000_klength = benchmarking(selection, list_100000, len(list_100000))\n",
    "print(\"list 100000\")\n",
    "print(sel_benchmark_100000_kfirst)\n",
    "print(sel_benchmark_100000_kquarter)\n",
    "print(sel_benchmark_100000_khalf)\n",
    "print(sel_benchmark_100000_kthreequarter)\n",
    "print(sel_benchmark_100000_klength)"
   ],
   "metadata": {
    "collapsed": false,
    "pycharm": {
     "name": "#%%\n"
    }
   }
  },
  {
   "cell_type": "code",
   "execution_count": 12,
   "outputs": [
    {
     "ename": "MemoryError",
     "evalue": "",
     "output_type": "error",
     "traceback": [
      "\u001B[1;31m---------------------------------------------------------------------------\u001B[0m",
      "\u001B[1;31mMemoryError\u001B[0m                               Traceback (most recent call last)",
      "Cell \u001B[1;32mIn[12], line 1\u001B[0m\n\u001B[1;32m----> 1\u001B[0m sel_benchmark_1000000_kfirst \u001B[38;5;241m=\u001B[39m \u001B[43mbenchmarking\u001B[49m\u001B[43m(\u001B[49m\u001B[43mselection\u001B[49m\u001B[43m,\u001B[49m\u001B[43m \u001B[49m\u001B[43mlist_1000000\u001B[49m\u001B[43m,\u001B[49m\u001B[43m \u001B[49m\u001B[43mk_first\u001B[49m\u001B[43m)\u001B[49m\n\u001B[0;32m      2\u001B[0m sel_benchmark_1000000_kquarter  \u001B[38;5;241m=\u001B[39m benchmarking(selection, list_1000000, \u001B[38;5;28mlen\u001B[39m(list_1000000) \u001B[38;5;241m*\u001B[39m k_quarter)\n\u001B[0;32m      3\u001B[0m sel_benchmark_1000000_khalf \u001B[38;5;241m=\u001B[39m benchmarking(selection, list_1000000, \u001B[38;5;28mlen\u001B[39m(list_1000000) \u001B[38;5;241m*\u001B[39m k_half)\n",
      "Cell \u001B[1;32mIn[6], line 5\u001B[0m, in \u001B[0;36mbenchmarking\u001B[1;34m(algorithm, inputList, k)\u001B[0m\n\u001B[0;32m      3\u001B[0m \u001B[38;5;28;01mdef\u001B[39;00m \u001B[38;5;21mbenchmarking\u001B[39m(algorithm, inputList, k):\n\u001B[0;32m      4\u001B[0m     startTime \u001B[38;5;241m=\u001B[39m time\u001B[38;5;241m.\u001B[39mperf_counter()\n\u001B[1;32m----> 5\u001B[0m     \u001B[43malgorithm\u001B[49m\u001B[43m(\u001B[49m\u001B[43minputList\u001B[49m\u001B[43m,\u001B[49m\u001B[43m \u001B[49m\u001B[43mk\u001B[49m\u001B[43m)\u001B[49m\n\u001B[0;32m      6\u001B[0m     endTime \u001B[38;5;241m=\u001B[39m time\u001B[38;5;241m.\u001B[39mperf_counter()\n\u001B[0;32m      7\u001B[0m     \u001B[38;5;28;01mreturn\u001B[39;00m endTime \u001B[38;5;241m-\u001B[39m startTime\n",
      "Cell \u001B[1;32mIn[1], line 19\u001B[0m, in \u001B[0;36mselection\u001B[1;34m(arr, k)\u001B[0m\n\u001B[0;32m     17\u001B[0m     \u001B[38;5;28;01mreturn\u001B[39;00m num\n\u001B[0;32m     18\u001B[0m \u001B[38;5;28;01melse\u001B[39;00m:\n\u001B[1;32m---> 19\u001B[0m     \u001B[43mselection\u001B[49m\u001B[43m(\u001B[49m\u001B[43msmaller\u001B[49m\u001B[43m,\u001B[49m\u001B[43m \u001B[49m\u001B[43mk\u001B[49m\u001B[43m)\u001B[49m\n",
      "Cell \u001B[1;32mIn[1], line 19\u001B[0m, in \u001B[0;36mselection\u001B[1;34m(arr, k)\u001B[0m\n\u001B[0;32m     17\u001B[0m     \u001B[38;5;28;01mreturn\u001B[39;00m num\n\u001B[0;32m     18\u001B[0m \u001B[38;5;28;01melse\u001B[39;00m:\n\u001B[1;32m---> 19\u001B[0m     \u001B[43mselection\u001B[49m\u001B[43m(\u001B[49m\u001B[43msmaller\u001B[49m\u001B[43m,\u001B[49m\u001B[43m \u001B[49m\u001B[43mk\u001B[49m\u001B[43m)\u001B[49m\n",
      "    \u001B[1;31m[... skipping similar frames: selection at line 19 (2100 times)]\u001B[0m\n",
      "Cell \u001B[1;32mIn[1], line 19\u001B[0m, in \u001B[0;36mselection\u001B[1;34m(arr, k)\u001B[0m\n\u001B[0;32m     17\u001B[0m     \u001B[38;5;28;01mreturn\u001B[39;00m num\n\u001B[0;32m     18\u001B[0m \u001B[38;5;28;01melse\u001B[39;00m:\n\u001B[1;32m---> 19\u001B[0m     \u001B[43mselection\u001B[49m\u001B[43m(\u001B[49m\u001B[43msmaller\u001B[49m\u001B[43m,\u001B[49m\u001B[43m \u001B[49m\u001B[43mk\u001B[49m\u001B[43m)\u001B[49m\n",
      "Cell \u001B[1;32mIn[1], line 12\u001B[0m, in \u001B[0;36mselection\u001B[1;34m(arr, k)\u001B[0m\n\u001B[0;32m     10\u001B[0m         larger\u001B[38;5;241m.\u001B[39mappend(arr[n])\n\u001B[0;32m     11\u001B[0m     \u001B[38;5;28;01melse\u001B[39;00m:\n\u001B[1;32m---> 12\u001B[0m         \u001B[43msmaller\u001B[49m\u001B[38;5;241;43m.\u001B[39;49m\u001B[43mappend\u001B[49m\u001B[43m(\u001B[49m\u001B[43marr\u001B[49m\u001B[43m[\u001B[49m\u001B[43mn\u001B[49m\u001B[43m]\u001B[49m\u001B[43m)\u001B[49m\n\u001B[0;32m     13\u001B[0m larger\u001B[38;5;241m.\u001B[39mappend(num)\n\u001B[0;32m     14\u001B[0m \u001B[38;5;28;01mif\u001B[39;00m k \u001B[38;5;241m>\u001B[39m \u001B[38;5;28mlen\u001B[39m(smaller)\u001B[38;5;241m+\u001B[39m\u001B[38;5;241m1\u001B[39m:\n",
      "\u001B[1;31mMemoryError\u001B[0m: "
     ]
    }
   ],
   "source": [
    "\n",
    "sel_benchmark_1000000_kfirst = benchmarking(selection, list_1000000, k_first)\n",
    "sel_benchmark_1000000_kquarter  = benchmarking(selection, list_1000000, len(list_1000000) * k_quarter)\n",
    "sel_benchmark_1000000_khalf = benchmarking(selection, list_1000000, len(list_1000000) * k_half)\n",
    "sel_benchmark_1000000_kthreequarter = benchmarking(selection, list_1000000, len(list_1000000) * k_threequarters)\n",
    "sel_benchmark_1000000_klength = benchmarking(selection, list_1000000, len(list_1000000))\n",
    "print(\"list 1000000\")\n",
    "print(sel_benchmark_1000000_kfirst)\n",
    "print(sel_benchmark_1000000_kquarter)\n",
    "print(sel_benchmark_1000000_khalf)\n",
    "print(sel_benchmark_1000000_kthreequarter)\n",
    "print(sel_benchmark_1000000_klength)"
   ],
   "metadata": {
    "collapsed": false,
    "pycharm": {
     "name": "#%%\n"
    }
   }
  },
  {
   "cell_type": "code",
   "execution_count": 14,
   "outputs": [
    {
     "name": "stdout",
     "output_type": "stream",
     "text": [
      "Benchmarks of sort algorithm\n",
      "0\n",
      "7\n",
      "24\n",
      "50\n",
      "97\n",
      "list 10\n",
      "4.0599843487143517e-05\n",
      "3.0199997127056122e-05\n",
      "2.8799986466765404e-05\n",
      "2.7799978852272034e-05\n",
      "2.8799986466765404e-05\n"
     ]
    }
   ],
   "source": [
    "# sorts the numbers and picks the element at index k − 1.\n",
    "print(\"Benchmarks of sort algorithm\")\n",
    "sort_benchmark_10_kfirst = benchmarking(sortAlg, list_10, k_first)\n",
    "sort_benchmark_10_kquarter = benchmarking(sortAlg, list_10, int(len(list_10) * k_quarter))\n",
    "sort_benchmark_10_khalf = benchmarking(sortAlg, list_10, int(len(list_10) * k_half))\n",
    "sort_benchmark_10_kthreequarter = benchmarking(sortAlg, list_10, int(len(list_10) * k_threequarters))\n",
    "sort_benchmark_10_klength = benchmarking(sortAlg, list_10, len(list_10))\n",
    "print(\"list 10\")\n",
    "print(sort_benchmark_10_kfirst)\n",
    "print(sort_benchmark_10_kquarter)\n",
    "print(sort_benchmark_10_khalf)\n",
    "print(sort_benchmark_10_kthreequarter)\n",
    "print(sort_benchmark_10_klength)"
   ],
   "metadata": {
    "collapsed": false,
    "pycharm": {
     "name": "#%%\n"
    }
   }
  },
  {
   "cell_type": "code",
   "execution_count": 16,
   "outputs": [
    {
     "name": "stdout",
     "output_type": "stream",
     "text": [
      "0\n",
      "22\n",
      "48\n",
      "80\n",
      "99\n",
      "list 100\n",
      "0.0007676000241190195\n",
      "0.00033110007643699646\n",
      "0.00029540015384554863\n",
      "0.00026100012473762035\n",
      "0.0002973000518977642\n"
     ]
    }
   ],
   "source": [
    "\n",
    "sort_benchmark_100_kfirst = benchmarking(sortAlg, list_100, k_first)\n",
    "sort_benchmark_100_kquarter  = benchmarking(sortAlg, list_100, int(len(list_100) * k_quarter))\n",
    "sort_benchmark_100_khalf = benchmarking(sortAlg, list_100, int(len(list_100) * k_half))\n",
    "sort_benchmark_100_kthreequarter = benchmarking(sortAlg, list_100, int(len(list_100) * k_threequarters))\n",
    "sort_benchmark_100_klength = benchmarking(sortAlg, list_100, len(list_100))\n",
    "print(\"list 100\")\n",
    "print(sort_benchmark_100_kfirst)\n",
    "print(sort_benchmark_100_kquarter)\n",
    "print(sort_benchmark_100_khalf)\n",
    "print(sort_benchmark_100_kthreequarter)\n",
    "print(sort_benchmark_100_klength)"
   ],
   "metadata": {
    "collapsed": false,
    "pycharm": {
     "name": "#%%\n"
    }
   }
  },
  {
   "cell_type": "code",
   "execution_count": 17,
   "outputs": [
    {
     "name": "stdout",
     "output_type": "stream",
     "text": [
      "0\n",
      "25\n",
      "51\n",
      "76\n",
      "100\n",
      "list 1000\n",
      "0.004192200023680925\n",
      "0.00410260003991425\n",
      "0.0024526999332010746\n",
      "0.0024429999757558107\n",
      "0.002187000121921301\n"
     ]
    }
   ],
   "source": [
    "\n",
    "sort_benchmark_1000_kfirst = benchmarking(sortAlg, list_1000, k_first)\n",
    "sort_benchmark_1000_kquarter  = benchmarking(sortAlg, list_1000, int(len(list_1000) * k_quarter))\n",
    "sort_benchmark_1000_khalf = benchmarking(sortAlg, list_1000, int(len(list_1000) * k_half))\n",
    "sort_benchmark_1000_kthreequarter = benchmarking(sortAlg, list_1000, int(len(list_1000) * k_threequarters))\n",
    "sort_benchmark_1000_klength = benchmarking(sortAlg, list_1000, len(list_1000))\n",
    "print(\"list 1000\")\n",
    "print(sort_benchmark_1000_kfirst)\n",
    "print(sort_benchmark_1000_kquarter)\n",
    "print(sort_benchmark_1000_khalf)\n",
    "print(sort_benchmark_1000_kthreequarter)\n",
    "print(sort_benchmark_1000_klength)"
   ],
   "metadata": {
    "collapsed": false,
    "pycharm": {
     "name": "#%%\n"
    }
   }
  },
  {
   "cell_type": "code",
   "execution_count": 18,
   "outputs": [
    {
     "name": "stdout",
     "output_type": "stream",
     "text": [
      "0\n",
      "25\n",
      "50\n",
      "75\n",
      "100\n",
      "list 10000\n",
      "0.039035300025716424\n",
      "0.028256099903956056\n",
      "0.029858299996703863\n",
      "0.026961799943819642\n",
      "0.03062640014104545\n"
     ]
    }
   ],
   "source": [
    "\n",
    "sort_benchmark_10000_kfirst = benchmarking(sortAlg, list_10000, k_first)\n",
    "sort_benchmark_10000_kquarter  = benchmarking(sortAlg, list_10000, int(len(list_10000) * k_quarter))\n",
    "sort_benchmark_10000_khalf = benchmarking(sortAlg, list_10000, int(len(list_10000) * k_half))\n",
    "sort_benchmark_10000_kthreequarter = benchmarking(sortAlg, list_10000, int(len(list_10000) * k_threequarters))\n",
    "sort_benchmark_10000_klength = benchmarking(sortAlg, list_10000, len(list_10000))\n",
    "print(\"list 10000\")\n",
    "print(sort_benchmark_10000_kfirst)\n",
    "print(sort_benchmark_10000_kquarter)\n",
    "print(sort_benchmark_10000_khalf)\n",
    "print(sort_benchmark_10000_kthreequarter)\n",
    "print(sort_benchmark_10000_klength)"
   ],
   "metadata": {
    "collapsed": false,
    "pycharm": {
     "name": "#%%\n"
    }
   }
  },
  {
   "cell_type": "code",
   "execution_count": 19,
   "outputs": [
    {
     "name": "stdout",
     "output_type": "stream",
     "text": [
      "0\n",
      "25\n",
      "50\n",
      "75\n",
      "100\n",
      "list 100000\n",
      "0.5457567998673767\n",
      "0.4382503000088036\n",
      "0.3177422001026571\n",
      "0.32796630007214844\n",
      "0.3184023001231253\n"
     ]
    }
   ],
   "source": [
    "\n",
    "sort_benchmark_100000_kfirst = benchmarking(sortAlg, list_100000, k_first)\n",
    "sort_benchmark_100000_kquarter  = benchmarking(sortAlg, list_100000, int(len(list_100000) * k_quarter))\n",
    "sort_benchmark_100000_khalf = benchmarking(sortAlg, list_100000, int(len(list_100000) * k_half))\n",
    "sort_benchmark_100000_kthreequarter = benchmarking(sortAlg, list_100000, int(len(list_100000) * k_threequarters))\n",
    "sort_benchmark_100000_klength = benchmarking(sortAlg, list_100000, len(list_100000))\n",
    "print(\"list 100000\")\n",
    "print(sort_benchmark_100000_kfirst)\n",
    "print(sort_benchmark_100000_kquarter)\n",
    "print(sort_benchmark_100000_khalf)\n",
    "print(sort_benchmark_100000_kthreequarter)\n",
    "print(sort_benchmark_100000_klength)"
   ],
   "metadata": {
    "collapsed": false,
    "pycharm": {
     "name": "#%%\n"
    }
   }
  },
  {
   "cell_type": "code",
   "execution_count": 20,
   "outputs": [
    {
     "name": "stdout",
     "output_type": "stream",
     "text": [
      "0\n",
      "25\n",
      "50\n",
      "75\n",
      "100\n",
      "list 1000000\n",
      "4.516796399839222\n",
      "3.743584900163114\n",
      "3.7195951999165118\n",
      "3.670616799965501\n",
      "3.678644400089979\n"
     ]
    }
   ],
   "source": [
    "\n",
    "sort_benchmark_1000000_kfirst = benchmarking(sortAlg, list_1000000, k_first)\n",
    "sort_benchmark_1000000_kquarter  = benchmarking(sortAlg, list_1000000, int(len(list_1000000) * k_quarter))\n",
    "sort_benchmark_1000000_khalf = benchmarking(sortAlg, list_1000000, int(len(list_1000000) * k_half))\n",
    "sort_benchmark_1000000_kthreequarter = benchmarking(sortAlg, list_1000000, int(len(list_1000000) * k_threequarters))\n",
    "sort_benchmark_1000000_klength = benchmarking(sortAlg, list_1000000, len(list_1000000))\n",
    "print(\"list 1000000\")\n",
    "print(sort_benchmark_1000000_kfirst)\n",
    "print(sort_benchmark_1000000_kquarter)\n",
    "print(sort_benchmark_1000000_khalf)\n",
    "print(sort_benchmark_1000000_kthreequarter)\n",
    "print(sort_benchmark_1000000_klength)"
   ],
   "metadata": {
    "collapsed": false,
    "pycharm": {
     "name": "#%%\n"
    }
   }
  },
  {
   "cell_type": "code",
   "execution_count": null,
   "outputs": [],
   "source": [],
   "metadata": {
    "collapsed": false,
    "pycharm": {
     "name": "#%%\n",
     "is_executing": true
    }
   }
  },
  {
   "cell_type": "code",
   "execution_count": null,
   "outputs": [],
   "source": [],
   "metadata": {
    "collapsed": false,
    "pycharm": {
     "name": "#%%\n"
    }
   }
  }
 ],
 "metadata": {
  "kernelspec": {
   "display_name": "Python 3",
   "language": "python",
   "name": "python3"
  },
  "language_info": {
   "codemirror_mode": {
    "name": "ipython",
    "version": 3
   },
   "file_extension": ".py",
   "mimetype": "text/x-python",
   "name": "python",
   "nbconvert_exporter": "python",
   "pygments_lexer": "ipython3",
   "version": "3.11.8"
  }
 },
 "nbformat": 4,
 "nbformat_minor": 2
}